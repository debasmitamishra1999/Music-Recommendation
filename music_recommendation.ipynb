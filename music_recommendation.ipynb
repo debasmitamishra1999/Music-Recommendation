{
  "nbformat": 4,
  "nbformat_minor": 0,
  "metadata": {
    "colab": {
      "name": "music_recommendation.ipynb",
      "provenance": [],
      "collapsed_sections": []
    },
    "kernelspec": {
      "name": "python3",
      "display_name": "Python 3"
    },
    "language_info": {
      "name": "python"
    }
  },
  "cells": [
    {
      "cell_type": "code",
      "metadata": {
        "id": "2HNRd5owcM8e"
      },
      "source": [
        "# Importing the libraries\n",
        "from sklearn.model_selection import cross_validate\n",
        "from sklearn.model_selection import GridSearchCV\n",
        "from sklearn.model_selection import train_test_split\n",
        "from sklearn import ensemble, metrics\n",
        "import numpy as np\n",
        "import pandas as pd\n",
        "import seaborn as sns\n",
        "import matplotlib.pyplot as plt\n",
        "import matplotlib as mpl\n",
        "import warnings\n"
      ],
      "execution_count": null,
      "outputs": []
    },
    {
      "cell_type": "code",
      "metadata": {
        "id": "bG8s3M4MfxYt"
      },
      "source": [
        "# Loading the training set\n",
        "from subprocess import check_output\n",
        "df = pd.read_csv('train.csv')"
      ],
      "execution_count": null,
      "outputs": []
    },
    {
      "cell_type": "code",
      "metadata": {
        "colab": {
          "base_uri": "https://localhost:8080/",
          "height": 260
        },
        "id": "NbKmhht1sI0-",
        "outputId": "fb7efab6-1b74-4b33-8502-fe5f9a6bd6c4"
      },
      "source": [
        "df.head()"
      ],
      "execution_count": null,
      "outputs": [
        {
          "output_type": "execute_result",
          "data": {
            "text/html": [
              "<div>\n",
              "<style scoped>\n",
              "    .dataframe tbody tr th:only-of-type {\n",
              "        vertical-align: middle;\n",
              "    }\n",
              "\n",
              "    .dataframe tbody tr th {\n",
              "        vertical-align: top;\n",
              "    }\n",
              "\n",
              "    .dataframe thead th {\n",
              "        text-align: right;\n",
              "    }\n",
              "</style>\n",
              "<table border=\"1\" class=\"dataframe\">\n",
              "  <thead>\n",
              "    <tr style=\"text-align: right;\">\n",
              "      <th></th>\n",
              "      <th>msno</th>\n",
              "      <th>song_id</th>\n",
              "      <th>source_system_tab</th>\n",
              "      <th>source_screen_name</th>\n",
              "      <th>source_type</th>\n",
              "      <th>target</th>\n",
              "    </tr>\n",
              "  </thead>\n",
              "  <tbody>\n",
              "    <tr>\n",
              "      <th>0</th>\n",
              "      <td>FGtllVqz18RPiwJj/edr2gV78zirAiY/9SmYvia+kCg=</td>\n",
              "      <td>BBzumQNXUHKdEBOB7mAJuzok+IJA1c2Ryg/yzTF6tik=</td>\n",
              "      <td>explore</td>\n",
              "      <td>Explore</td>\n",
              "      <td>online-playlist</td>\n",
              "      <td>1.0</td>\n",
              "    </tr>\n",
              "    <tr>\n",
              "      <th>1</th>\n",
              "      <td>Xumu+NIjS6QYVxDS4/t3SawvJ7viT9hPKXmf0RtLNx8=</td>\n",
              "      <td>bhp/MpSNoqoxOIB+/l8WPqu6jldth4DIpCm3ayXnJqM=</td>\n",
              "      <td>my library</td>\n",
              "      <td>Local playlist more</td>\n",
              "      <td>local-playlist</td>\n",
              "      <td>1.0</td>\n",
              "    </tr>\n",
              "    <tr>\n",
              "      <th>2</th>\n",
              "      <td>Xumu+NIjS6QYVxDS4/t3SawvJ7viT9hPKXmf0RtLNx8=</td>\n",
              "      <td>JNWfrrC7zNN7BdMpsISKa4Mw+xVJYNnxXh3/Epw7QgY=</td>\n",
              "      <td>my library</td>\n",
              "      <td>Local playlist more</td>\n",
              "      <td>local-playlist</td>\n",
              "      <td>1.0</td>\n",
              "    </tr>\n",
              "    <tr>\n",
              "      <th>3</th>\n",
              "      <td>Xumu+NIjS6QYVxDS4/t3SawvJ7viT9hPKXmf0RtLNx8=</td>\n",
              "      <td>2A87tzfnJTSWqD7gIZHisolhe4DMdzkbd6LzO1KHjNs=</td>\n",
              "      <td>my library</td>\n",
              "      <td>Local playlist more</td>\n",
              "      <td>local-playlist</td>\n",
              "      <td>1.0</td>\n",
              "    </tr>\n",
              "    <tr>\n",
              "      <th>4</th>\n",
              "      <td>FGtllVqz18RPiwJj/edr2gV78zirAiY/9SmYvia+kCg=</td>\n",
              "      <td>3qm6XTZ6MOCU11x8FIVbAGH5l5uMkT3/ZalWG1oo2Gc=</td>\n",
              "      <td>explore</td>\n",
              "      <td>Explore</td>\n",
              "      <td>online-playlist</td>\n",
              "      <td>1.0</td>\n",
              "    </tr>\n",
              "  </tbody>\n",
              "</table>\n",
              "</div>"
            ],
            "text/plain": [
              "                                           msno  ... target\n",
              "0  FGtllVqz18RPiwJj/edr2gV78zirAiY/9SmYvia+kCg=  ...    1.0\n",
              "1  Xumu+NIjS6QYVxDS4/t3SawvJ7viT9hPKXmf0RtLNx8=  ...    1.0\n",
              "2  Xumu+NIjS6QYVxDS4/t3SawvJ7viT9hPKXmf0RtLNx8=  ...    1.0\n",
              "3  Xumu+NIjS6QYVxDS4/t3SawvJ7viT9hPKXmf0RtLNx8=  ...    1.0\n",
              "4  FGtllVqz18RPiwJj/edr2gV78zirAiY/9SmYvia+kCg=  ...    1.0\n",
              "\n",
              "[5 rows x 6 columns]"
            ]
          },
          "metadata": {},
          "execution_count": 35
        }
      ]
    },
    {
      "cell_type": "code",
      "metadata": {
        "colab": {
          "base_uri": "https://localhost:8080/"
        },
        "id": "fyeJxuchsS1D",
        "outputId": "ae0e5a4a-a689-44fd-ed4a-df5a20ae905f"
      },
      "source": [
        "# Shape of dataset\n",
        "df.shape"
      ],
      "execution_count": null,
      "outputs": [
        {
          "output_type": "execute_result",
          "data": {
            "text/plain": [
              "(31173, 6)"
            ]
          },
          "metadata": {},
          "execution_count": 36
        }
      ]
    },
    {
      "cell_type": "code",
      "metadata": {
        "id": "41c0l2VqsXS2"
      },
      "source": [
        "# 1% sample of items\n",
        "df = df.sample(frac=0.1)"
      ],
      "execution_count": null,
      "outputs": []
    },
    {
      "cell_type": "code",
      "metadata": {
        "colab": {
          "base_uri": "https://localhost:8080/"
        },
        "id": "yf4ENcfmsZbe",
        "outputId": "615506b3-8cc2-47f1-d61a-1d770073795e"
      },
      "source": [
        "df.info()"
      ],
      "execution_count": null,
      "outputs": [
        {
          "output_type": "stream",
          "name": "stdout",
          "text": [
            "<class 'pandas.core.frame.DataFrame'>\n",
            "Int64Index: 3117 entries, 10813 to 15537\n",
            "Data columns (total 6 columns):\n",
            " #   Column              Non-Null Count  Dtype  \n",
            "---  ------              --------------  -----  \n",
            " 0   msno                3117 non-null   object \n",
            " 1   song_id             3117 non-null   object \n",
            " 2   source_system_tab   3109 non-null   object \n",
            " 3   source_screen_name  3015 non-null   object \n",
            " 4   source_type         3110 non-null   object \n",
            " 5   target              3117 non-null   float64\n",
            "dtypes: float64(1), object(5)\n",
            "memory usage: 170.5+ KB\n"
          ]
        }
      ]
    },
    {
      "cell_type": "code",
      "metadata": {
        "id": "z4LPKucxsh7J"
      },
      "source": [
        "# loading song data\n",
        "songs = pd.read_csv('songs.csv')"
      ],
      "execution_count": null,
      "outputs": []
    },
    {
      "cell_type": "code",
      "metadata": {
        "colab": {
          "base_uri": "https://localhost:8080/"
        },
        "id": "od_u1GftsltP",
        "outputId": "b9525b5c-532b-43c6-ee9a-d268eded1c39"
      },
      "source": [
        "songs.info()"
      ],
      "execution_count": null,
      "outputs": [
        {
          "output_type": "stream",
          "name": "stdout",
          "text": [
            "<class 'pandas.core.frame.DataFrame'>\n",
            "RangeIndex: 42270 entries, 0 to 42269\n",
            "Data columns (total 7 columns):\n",
            " #   Column       Non-Null Count  Dtype  \n",
            "---  ------       --------------  -----  \n",
            " 0   song_id      42270 non-null  object \n",
            " 1   song_length  42270 non-null  int64  \n",
            " 2   genre_ids    41503 non-null  object \n",
            " 3   artist_name  42269 non-null  object \n",
            " 4   composer     24545 non-null  object \n",
            " 5   lyricist     11561 non-null  object \n",
            " 6   language     42269 non-null  float64\n",
            "dtypes: float64(1), int64(1), object(5)\n",
            "memory usage: 2.3+ MB\n"
          ]
        }
      ]
    },
    {
      "cell_type": "code",
      "metadata": {
        "id": "yzYcDduIsqOz"
      },
      "source": [
        "# join songs data\n",
        "df = pd.merge(df, songs, on='song_id', how='left')\n",
        "del songs"
      ],
      "execution_count": null,
      "outputs": []
    },
    {
      "cell_type": "code",
      "metadata": {
        "colab": {
          "base_uri": "https://localhost:8080/"
        },
        "id": "3HgWMX39szHG",
        "outputId": "3028dfde-fe83-4011-99fa-c98a4a0bded8"
      },
      "source": [
        "df.info()"
      ],
      "execution_count": null,
      "outputs": [
        {
          "output_type": "stream",
          "name": "stdout",
          "text": [
            "<class 'pandas.core.frame.DataFrame'>\n",
            "Int64Index: 3117 entries, 0 to 3116\n",
            "Data columns (total 12 columns):\n",
            " #   Column              Non-Null Count  Dtype  \n",
            "---  ------              --------------  -----  \n",
            " 0   msno                3117 non-null   object \n",
            " 1   song_id             3117 non-null   object \n",
            " 2   source_system_tab   3109 non-null   object \n",
            " 3   source_screen_name  3015 non-null   object \n",
            " 4   source_type         3110 non-null   object \n",
            " 5   target              3117 non-null   float64\n",
            " 6   song_length         462 non-null    float64\n",
            " 7   genre_ids           458 non-null    object \n",
            " 8   artist_name         462 non-null    object \n",
            " 9   composer            372 non-null    object \n",
            " 10  lyricist            292 non-null    object \n",
            " 11  language            462 non-null    float64\n",
            "dtypes: float64(3), object(9)\n",
            "memory usage: 316.6+ KB\n"
          ]
        }
      ]
    },
    {
      "cell_type": "code",
      "metadata": {
        "id": "qDbLoFDLs3R2"
      },
      "source": [
        "# loading song data\n",
        "members = pd.read_csv('members.csv')"
      ],
      "execution_count": null,
      "outputs": []
    },
    {
      "cell_type": "code",
      "metadata": {
        "id": "_SYAePRxs7Et"
      },
      "source": [
        "# join songs data \n",
        "df = pd.merge(df, members, on='msno', how='left')\n",
        "del members"
      ],
      "execution_count": null,
      "outputs": []
    },
    {
      "cell_type": "code",
      "metadata": {
        "colab": {
          "base_uri": "https://localhost:8080/"
        },
        "id": "eYnPK98Ws_O1",
        "outputId": "22ebb0b5-fb21-4e00-e1e9-e95003d34403"
      },
      "source": [
        "df.info()"
      ],
      "execution_count": null,
      "outputs": [
        {
          "output_type": "stream",
          "name": "stdout",
          "text": [
            "<class 'pandas.core.frame.DataFrame'>\n",
            "Int64Index: 3117 entries, 0 to 3116\n",
            "Data columns (total 18 columns):\n",
            " #   Column                  Non-Null Count  Dtype  \n",
            "---  ------                  --------------  -----  \n",
            " 0   msno                    3117 non-null   object \n",
            " 1   song_id                 3117 non-null   object \n",
            " 2   source_system_tab       3109 non-null   object \n",
            " 3   source_screen_name      3015 non-null   object \n",
            " 4   source_type             3110 non-null   object \n",
            " 5   target                  3117 non-null   float64\n",
            " 6   song_length             462 non-null    float64\n",
            " 7   genre_ids               458 non-null    object \n",
            " 8   artist_name             462 non-null    object \n",
            " 9   composer                372 non-null    object \n",
            " 10  lyricist                292 non-null    object \n",
            " 11  language                462 non-null    float64\n",
            " 12  city                    3117 non-null   int64  \n",
            " 13  bd                      3117 non-null   int64  \n",
            " 14  gender                  1889 non-null   object \n",
            " 15  registered_via          3117 non-null   int64  \n",
            " 16  registration_init_time  3117 non-null   int64  \n",
            " 17  expiration_date         3117 non-null   int64  \n",
            "dtypes: float64(3), int64(5), object(10)\n",
            "memory usage: 462.7+ KB\n"
          ]
        }
      ]
    },
    {
      "cell_type": "code",
      "metadata": {
        "id": "0SX4V3HptLiD"
      },
      "source": [
        "# Replace NA\n",
        "for i in df.select_dtypes(include=['object']).columns:\n",
        "    df[i][df[i].isnull()] = 'unknown'\n",
        "df = df.fillna(value=0)"
      ],
      "execution_count": null,
      "outputs": []
    },
    {
      "cell_type": "code",
      "metadata": {
        "colab": {
          "base_uri": "https://localhost:8080/"
        },
        "id": "Fsw0KVmCtPtB",
        "outputId": "7036f382-d194-4f41-9842-21902c532cab"
      },
      "source": [
        "df.info()"
      ],
      "execution_count": null,
      "outputs": [
        {
          "output_type": "stream",
          "name": "stdout",
          "text": [
            "<class 'pandas.core.frame.DataFrame'>\n",
            "Int64Index: 3117 entries, 0 to 3116\n",
            "Data columns (total 18 columns):\n",
            " #   Column                  Non-Null Count  Dtype  \n",
            "---  ------                  --------------  -----  \n",
            " 0   msno                    3117 non-null   object \n",
            " 1   song_id                 3117 non-null   object \n",
            " 2   source_system_tab       3117 non-null   object \n",
            " 3   source_screen_name      3117 non-null   object \n",
            " 4   source_type             3117 non-null   object \n",
            " 5   target                  3117 non-null   float64\n",
            " 6   song_length             3117 non-null   float64\n",
            " 7   genre_ids               3117 non-null   object \n",
            " 8   artist_name             3117 non-null   object \n",
            " 9   composer                3117 non-null   object \n",
            " 10  lyricist                3117 non-null   object \n",
            " 11  language                3117 non-null   float64\n",
            " 12  city                    3117 non-null   int64  \n",
            " 13  bd                      3117 non-null   int64  \n",
            " 14  gender                  3117 non-null   object \n",
            " 15  registered_via          3117 non-null   int64  \n",
            " 16  registration_init_time  3117 non-null   int64  \n",
            " 17  expiration_date         3117 non-null   int64  \n",
            "dtypes: float64(3), int64(5), object(10)\n",
            "memory usage: 462.7+ KB\n"
          ]
        }
      ]
    },
    {
      "cell_type": "code",
      "metadata": {
        "id": "faBS3GzOtnS8"
      },
      "source": [
        "# Create Dates\n",
        "\n",
        "# registration_init_time\n",
        "df.registration_init_time = pd.to_datetime(df.registration_init_time, format='%Y%m%d', errors='ignore')\n",
        "df['registration_init_time_year'] = df['registration_init_time'].dt.year\n",
        "df['registration_init_time_month'] = df['registration_init_time'].dt.month\n",
        "df['registration_init_time_day'] = df['registration_init_time'].dt.day\n",
        "\n",
        "# expiration_date\n",
        "df.expiration_date = pd.to_datetime(df.expiration_date,  format='%Y%m%d', errors='ignore')\n",
        "df['expiration_date_year'] = df['expiration_date'].dt.year\n",
        "df['expiration_date_month'] = df['expiration_date'].dt.month\n",
        "df['expiration_date_day'] = df['expiration_date'].dt.day"
      ],
      "execution_count": null,
      "outputs": []
    },
    {
      "cell_type": "code",
      "metadata": {
        "id": "7ThZls1ctuq6"
      },
      "source": [
        "#Dates to categoty\n",
        "df['registration_init_time'] = df['registration_init_time'].astype('category')\n",
        "df['expiration_date'] = df['expiration_date'].astype('category')"
      ],
      "execution_count": null,
      "outputs": []
    },
    {
      "cell_type": "code",
      "metadata": {
        "id": "AMhpgnJMtzHU"
      },
      "source": [
        "# Object data to category\n",
        "for col in df.select_dtypes(include=['object']).columns:\n",
        "    df[col] = df[col].astype('category')\n",
        "    \n",
        "# Encoding categorical features\n",
        "for col in df.select_dtypes(include=['category']).columns:\n",
        "    df[col] = df[col].cat.codes"
      ],
      "execution_count": null,
      "outputs": []
    },
    {
      "cell_type": "code",
      "metadata": {
        "colab": {
          "base_uri": "https://localhost:8080/",
          "height": 819
        },
        "id": "OXiF6MRHt1nK",
        "outputId": "d366b135-5153-45f3-adee-8bf8bbda617e"
      },
      "source": [
        "df.corr()"
      ],
      "execution_count": null,
      "outputs": [
        {
          "output_type": "execute_result",
          "data": {
            "text/html": [
              "<div>\n",
              "<style scoped>\n",
              "    .dataframe tbody tr th:only-of-type {\n",
              "        vertical-align: middle;\n",
              "    }\n",
              "\n",
              "    .dataframe tbody tr th {\n",
              "        vertical-align: top;\n",
              "    }\n",
              "\n",
              "    .dataframe thead th {\n",
              "        text-align: right;\n",
              "    }\n",
              "</style>\n",
              "<table border=\"1\" class=\"dataframe\">\n",
              "  <thead>\n",
              "    <tr style=\"text-align: right;\">\n",
              "      <th></th>\n",
              "      <th>msno</th>\n",
              "      <th>song_id</th>\n",
              "      <th>source_system_tab</th>\n",
              "      <th>source_screen_name</th>\n",
              "      <th>source_type</th>\n",
              "      <th>target</th>\n",
              "      <th>song_length</th>\n",
              "      <th>genre_ids</th>\n",
              "      <th>artist_name</th>\n",
              "      <th>composer</th>\n",
              "      <th>lyricist</th>\n",
              "      <th>language</th>\n",
              "      <th>city</th>\n",
              "      <th>bd</th>\n",
              "      <th>gender</th>\n",
              "      <th>registered_via</th>\n",
              "      <th>registration_init_time</th>\n",
              "      <th>expiration_date</th>\n",
              "      <th>registration_init_time_year</th>\n",
              "      <th>registration_init_time_month</th>\n",
              "      <th>registration_init_time_day</th>\n",
              "      <th>expiration_date_year</th>\n",
              "      <th>expiration_date_month</th>\n",
              "      <th>expiration_date_day</th>\n",
              "    </tr>\n",
              "  </thead>\n",
              "  <tbody>\n",
              "    <tr>\n",
              "      <th>msno</th>\n",
              "      <td>1.000000</td>\n",
              "      <td>0.020492</td>\n",
              "      <td>-0.036219</td>\n",
              "      <td>-0.039307</td>\n",
              "      <td>-0.047331</td>\n",
              "      <td>0.009492</td>\n",
              "      <td>-0.002544</td>\n",
              "      <td>-0.003432</td>\n",
              "      <td>-0.003488</td>\n",
              "      <td>-0.033212</td>\n",
              "      <td>-0.012654</td>\n",
              "      <td>0.034510</td>\n",
              "      <td>0.059612</td>\n",
              "      <td>0.006296</td>\n",
              "      <td>-0.065667</td>\n",
              "      <td>0.014259</td>\n",
              "      <td>-0.018184</td>\n",
              "      <td>-0.026009</td>\n",
              "      <td>-0.031233</td>\n",
              "      <td>0.058284</td>\n",
              "      <td>-0.024425</td>\n",
              "      <td>-0.000436</td>\n",
              "      <td>-0.032569</td>\n",
              "      <td>-0.012879</td>\n",
              "    </tr>\n",
              "    <tr>\n",
              "      <th>song_id</th>\n",
              "      <td>0.020492</td>\n",
              "      <td>1.000000</td>\n",
              "      <td>0.010137</td>\n",
              "      <td>-0.012036</td>\n",
              "      <td>-0.033008</td>\n",
              "      <td>0.032171</td>\n",
              "      <td>0.037150</td>\n",
              "      <td>-0.040524</td>\n",
              "      <td>0.011996</td>\n",
              "      <td>-0.051062</td>\n",
              "      <td>-0.035084</td>\n",
              "      <td>0.025280</td>\n",
              "      <td>0.017092</td>\n",
              "      <td>0.024418</td>\n",
              "      <td>-0.033155</td>\n",
              "      <td>0.000841</td>\n",
              "      <td>-0.010005</td>\n",
              "      <td>-0.033090</td>\n",
              "      <td>-0.011200</td>\n",
              "      <td>0.013284</td>\n",
              "      <td>-0.006019</td>\n",
              "      <td>-0.018986</td>\n",
              "      <td>-0.015099</td>\n",
              "      <td>0.017208</td>\n",
              "    </tr>\n",
              "    <tr>\n",
              "      <th>source_system_tab</th>\n",
              "      <td>-0.036219</td>\n",
              "      <td>0.010137</td>\n",
              "      <td>1.000000</td>\n",
              "      <td>-0.027616</td>\n",
              "      <td>-0.246791</td>\n",
              "      <td>0.104801</td>\n",
              "      <td>0.006477</td>\n",
              "      <td>0.005127</td>\n",
              "      <td>-0.014163</td>\n",
              "      <td>0.015432</td>\n",
              "      <td>-0.016549</td>\n",
              "      <td>0.001617</td>\n",
              "      <td>0.003501</td>\n",
              "      <td>-0.041508</td>\n",
              "      <td>0.015335</td>\n",
              "      <td>0.012291</td>\n",
              "      <td>-0.008376</td>\n",
              "      <td>-0.000448</td>\n",
              "      <td>0.014107</td>\n",
              "      <td>-0.036289</td>\n",
              "      <td>0.014897</td>\n",
              "      <td>0.004848</td>\n",
              "      <td>0.002970</td>\n",
              "      <td>0.010860</td>\n",
              "    </tr>\n",
              "    <tr>\n",
              "      <th>source_screen_name</th>\n",
              "      <td>-0.039307</td>\n",
              "      <td>-0.012036</td>\n",
              "      <td>-0.027616</td>\n",
              "      <td>1.000000</td>\n",
              "      <td>0.295698</td>\n",
              "      <td>-0.103111</td>\n",
              "      <td>0.008273</td>\n",
              "      <td>-0.003733</td>\n",
              "      <td>-0.007525</td>\n",
              "      <td>0.007768</td>\n",
              "      <td>0.009851</td>\n",
              "      <td>-0.007632</td>\n",
              "      <td>-0.023421</td>\n",
              "      <td>-0.046204</td>\n",
              "      <td>0.016289</td>\n",
              "      <td>-0.020799</td>\n",
              "      <td>0.053880</td>\n",
              "      <td>-0.069154</td>\n",
              "      <td>0.055354</td>\n",
              "      <td>0.022081</td>\n",
              "      <td>0.035843</td>\n",
              "      <td>-0.061212</td>\n",
              "      <td>0.006533</td>\n",
              "      <td>0.034359</td>\n",
              "    </tr>\n",
              "    <tr>\n",
              "      <th>source_type</th>\n",
              "      <td>-0.047331</td>\n",
              "      <td>-0.033008</td>\n",
              "      <td>-0.246791</td>\n",
              "      <td>0.295698</td>\n",
              "      <td>1.000000</td>\n",
              "      <td>-0.182188</td>\n",
              "      <td>-0.002897</td>\n",
              "      <td>-0.001350</td>\n",
              "      <td>0.015710</td>\n",
              "      <td>0.021698</td>\n",
              "      <td>0.018353</td>\n",
              "      <td>-0.022245</td>\n",
              "      <td>-0.031263</td>\n",
              "      <td>0.005383</td>\n",
              "      <td>-0.009898</td>\n",
              "      <td>0.013219</td>\n",
              "      <td>-0.010221</td>\n",
              "      <td>0.012683</td>\n",
              "      <td>-0.023275</td>\n",
              "      <td>0.031841</td>\n",
              "      <td>-0.006762</td>\n",
              "      <td>-0.016242</td>\n",
              "      <td>0.044445</td>\n",
              "      <td>-0.002066</td>\n",
              "    </tr>\n",
              "    <tr>\n",
              "      <th>target</th>\n",
              "      <td>0.009492</td>\n",
              "      <td>0.032171</td>\n",
              "      <td>0.104801</td>\n",
              "      <td>-0.103111</td>\n",
              "      <td>-0.182188</td>\n",
              "      <td>1.000000</td>\n",
              "      <td>0.010460</td>\n",
              "      <td>-0.013629</td>\n",
              "      <td>-0.026387</td>\n",
              "      <td>0.005423</td>\n",
              "      <td>0.004202</td>\n",
              "      <td>0.018458</td>\n",
              "      <td>-0.001285</td>\n",
              "      <td>-0.003444</td>\n",
              "      <td>-0.001903</td>\n",
              "      <td>-0.016014</td>\n",
              "      <td>0.016908</td>\n",
              "      <td>0.088541</td>\n",
              "      <td>0.020379</td>\n",
              "      <td>0.032180</td>\n",
              "      <td>0.023603</td>\n",
              "      <td>0.042971</td>\n",
              "      <td>0.033144</td>\n",
              "      <td>0.031091</td>\n",
              "    </tr>\n",
              "    <tr>\n",
              "      <th>song_length</th>\n",
              "      <td>-0.002544</td>\n",
              "      <td>0.037150</td>\n",
              "      <td>0.006477</td>\n",
              "      <td>0.008273</td>\n",
              "      <td>-0.002897</td>\n",
              "      <td>0.010460</td>\n",
              "      <td>1.000000</td>\n",
              "      <td>-0.920362</td>\n",
              "      <td>0.200500</td>\n",
              "      <td>-0.006384</td>\n",
              "      <td>0.401028</td>\n",
              "      <td>0.546423</td>\n",
              "      <td>0.008548</td>\n",
              "      <td>0.009752</td>\n",
              "      <td>-0.005897</td>\n",
              "      <td>0.012093</td>\n",
              "      <td>-0.009422</td>\n",
              "      <td>-0.043254</td>\n",
              "      <td>-0.009782</td>\n",
              "      <td>0.013646</td>\n",
              "      <td>-0.020745</td>\n",
              "      <td>-0.036542</td>\n",
              "      <td>0.009163</td>\n",
              "      <td>-0.011640</td>\n",
              "    </tr>\n",
              "    <tr>\n",
              "      <th>genre_ids</th>\n",
              "      <td>-0.003432</td>\n",
              "      <td>-0.040524</td>\n",
              "      <td>0.005127</td>\n",
              "      <td>-0.003733</td>\n",
              "      <td>-0.001350</td>\n",
              "      <td>-0.013629</td>\n",
              "      <td>-0.920362</td>\n",
              "      <td>1.000000</td>\n",
              "      <td>-0.089076</td>\n",
              "      <td>0.091989</td>\n",
              "      <td>-0.331912</td>\n",
              "      <td>-0.646833</td>\n",
              "      <td>-0.007529</td>\n",
              "      <td>-0.006395</td>\n",
              "      <td>0.014036</td>\n",
              "      <td>-0.003415</td>\n",
              "      <td>0.001538</td>\n",
              "      <td>0.055967</td>\n",
              "      <td>0.001723</td>\n",
              "      <td>-0.025049</td>\n",
              "      <td>0.022818</td>\n",
              "      <td>0.043584</td>\n",
              "      <td>-0.003837</td>\n",
              "      <td>0.010484</td>\n",
              "    </tr>\n",
              "    <tr>\n",
              "      <th>artist_name</th>\n",
              "      <td>-0.003488</td>\n",
              "      <td>0.011996</td>\n",
              "      <td>-0.014163</td>\n",
              "      <td>-0.007525</td>\n",
              "      <td>0.015710</td>\n",
              "      <td>-0.026387</td>\n",
              "      <td>0.200500</td>\n",
              "      <td>-0.089076</td>\n",
              "      <td>1.000000</td>\n",
              "      <td>0.359527</td>\n",
              "      <td>0.321372</td>\n",
              "      <td>-0.389236</td>\n",
              "      <td>-0.007672</td>\n",
              "      <td>0.001664</td>\n",
              "      <td>-0.001027</td>\n",
              "      <td>0.012622</td>\n",
              "      <td>0.009667</td>\n",
              "      <td>-0.008052</td>\n",
              "      <td>0.003365</td>\n",
              "      <td>-0.002548</td>\n",
              "      <td>-0.019826</td>\n",
              "      <td>-0.011514</td>\n",
              "      <td>0.011217</td>\n",
              "      <td>-0.017286</td>\n",
              "    </tr>\n",
              "    <tr>\n",
              "      <th>composer</th>\n",
              "      <td>-0.033212</td>\n",
              "      <td>-0.051062</td>\n",
              "      <td>0.015432</td>\n",
              "      <td>0.007768</td>\n",
              "      <td>0.021698</td>\n",
              "      <td>0.005423</td>\n",
              "      <td>-0.006384</td>\n",
              "      <td>0.091989</td>\n",
              "      <td>0.359527</td>\n",
              "      <td>1.000000</td>\n",
              "      <td>0.693705</td>\n",
              "      <td>-0.443249</td>\n",
              "      <td>-0.018400</td>\n",
              "      <td>-0.021007</td>\n",
              "      <td>0.003742</td>\n",
              "      <td>0.008992</td>\n",
              "      <td>0.007019</td>\n",
              "      <td>0.007228</td>\n",
              "      <td>0.001685</td>\n",
              "      <td>-0.025446</td>\n",
              "      <td>0.020821</td>\n",
              "      <td>-0.017825</td>\n",
              "      <td>0.036988</td>\n",
              "      <td>0.011670</td>\n",
              "    </tr>\n",
              "    <tr>\n",
              "      <th>lyricist</th>\n",
              "      <td>-0.012654</td>\n",
              "      <td>-0.035084</td>\n",
              "      <td>-0.016549</td>\n",
              "      <td>0.009851</td>\n",
              "      <td>0.018353</td>\n",
              "      <td>0.004202</td>\n",
              "      <td>0.401028</td>\n",
              "      <td>-0.331912</td>\n",
              "      <td>0.321372</td>\n",
              "      <td>0.693705</td>\n",
              "      <td>1.000000</td>\n",
              "      <td>-0.086345</td>\n",
              "      <td>0.001960</td>\n",
              "      <td>0.000251</td>\n",
              "      <td>-0.002484</td>\n",
              "      <td>0.015172</td>\n",
              "      <td>-0.014441</td>\n",
              "      <td>-0.016321</td>\n",
              "      <td>-0.015517</td>\n",
              "      <td>-0.007529</td>\n",
              "      <td>0.010754</td>\n",
              "      <td>-0.026588</td>\n",
              "      <td>0.024841</td>\n",
              "      <td>-0.015451</td>\n",
              "    </tr>\n",
              "    <tr>\n",
              "      <th>language</th>\n",
              "      <td>0.034510</td>\n",
              "      <td>0.025280</td>\n",
              "      <td>0.001617</td>\n",
              "      <td>-0.007632</td>\n",
              "      <td>-0.022245</td>\n",
              "      <td>0.018458</td>\n",
              "      <td>0.546423</td>\n",
              "      <td>-0.646833</td>\n",
              "      <td>-0.389236</td>\n",
              "      <td>-0.443249</td>\n",
              "      <td>-0.086345</td>\n",
              "      <td>1.000000</td>\n",
              "      <td>0.012030</td>\n",
              "      <td>0.019687</td>\n",
              "      <td>-0.029469</td>\n",
              "      <td>-0.006149</td>\n",
              "      <td>-0.010358</td>\n",
              "      <td>-0.004835</td>\n",
              "      <td>-0.004497</td>\n",
              "      <td>0.018316</td>\n",
              "      <td>0.001532</td>\n",
              "      <td>0.004960</td>\n",
              "      <td>-0.014275</td>\n",
              "      <td>-0.006799</td>\n",
              "    </tr>\n",
              "    <tr>\n",
              "      <th>city</th>\n",
              "      <td>0.059612</td>\n",
              "      <td>0.017092</td>\n",
              "      <td>0.003501</td>\n",
              "      <td>-0.023421</td>\n",
              "      <td>-0.031263</td>\n",
              "      <td>-0.001285</td>\n",
              "      <td>0.008548</td>\n",
              "      <td>-0.007529</td>\n",
              "      <td>-0.007672</td>\n",
              "      <td>-0.018400</td>\n",
              "      <td>0.001960</td>\n",
              "      <td>0.012030</td>\n",
              "      <td>1.000000</td>\n",
              "      <td>0.570957</td>\n",
              "      <td>-0.537893</td>\n",
              "      <td>-0.002021</td>\n",
              "      <td>-0.294303</td>\n",
              "      <td>0.201680</td>\n",
              "      <td>-0.279816</td>\n",
              "      <td>-0.042287</td>\n",
              "      <td>-0.058649</td>\n",
              "      <td>0.179511</td>\n",
              "      <td>-0.048011</td>\n",
              "      <td>0.027185</td>\n",
              "    </tr>\n",
              "    <tr>\n",
              "      <th>bd</th>\n",
              "      <td>0.006296</td>\n",
              "      <td>0.024418</td>\n",
              "      <td>-0.041508</td>\n",
              "      <td>-0.046204</td>\n",
              "      <td>0.005383</td>\n",
              "      <td>-0.003444</td>\n",
              "      <td>0.009752</td>\n",
              "      <td>-0.006395</td>\n",
              "      <td>0.001664</td>\n",
              "      <td>-0.021007</td>\n",
              "      <td>0.000251</td>\n",
              "      <td>0.019687</td>\n",
              "      <td>0.570957</td>\n",
              "      <td>1.000000</td>\n",
              "      <td>-0.749762</td>\n",
              "      <td>0.103527</td>\n",
              "      <td>-0.441313</td>\n",
              "      <td>0.208715</td>\n",
              "      <td>-0.443971</td>\n",
              "      <td>-0.031835</td>\n",
              "      <td>-0.050977</td>\n",
              "      <td>0.172714</td>\n",
              "      <td>-0.046010</td>\n",
              "      <td>0.063424</td>\n",
              "    </tr>\n",
              "    <tr>\n",
              "      <th>gender</th>\n",
              "      <td>-0.065667</td>\n",
              "      <td>-0.033155</td>\n",
              "      <td>0.015335</td>\n",
              "      <td>0.016289</td>\n",
              "      <td>-0.009898</td>\n",
              "      <td>-0.001903</td>\n",
              "      <td>-0.005897</td>\n",
              "      <td>0.014036</td>\n",
              "      <td>-0.001027</td>\n",
              "      <td>0.003742</td>\n",
              "      <td>-0.002484</td>\n",
              "      <td>-0.029469</td>\n",
              "      <td>-0.537893</td>\n",
              "      <td>-0.749762</td>\n",
              "      <td>1.000000</td>\n",
              "      <td>-0.081691</td>\n",
              "      <td>0.355321</td>\n",
              "      <td>-0.139352</td>\n",
              "      <td>0.364748</td>\n",
              "      <td>-0.005858</td>\n",
              "      <td>0.040964</td>\n",
              "      <td>-0.125365</td>\n",
              "      <td>0.055602</td>\n",
              "      <td>-0.038355</td>\n",
              "    </tr>\n",
              "    <tr>\n",
              "      <th>registered_via</th>\n",
              "      <td>0.014259</td>\n",
              "      <td>0.000841</td>\n",
              "      <td>0.012291</td>\n",
              "      <td>-0.020799</td>\n",
              "      <td>0.013219</td>\n",
              "      <td>-0.016014</td>\n",
              "      <td>0.012093</td>\n",
              "      <td>-0.003415</td>\n",
              "      <td>0.012622</td>\n",
              "      <td>0.008992</td>\n",
              "      <td>0.015172</td>\n",
              "      <td>-0.006149</td>\n",
              "      <td>-0.002021</td>\n",
              "      <td>0.103527</td>\n",
              "      <td>-0.081691</td>\n",
              "      <td>1.000000</td>\n",
              "      <td>-0.418598</td>\n",
              "      <td>0.134953</td>\n",
              "      <td>-0.440924</td>\n",
              "      <td>-0.039154</td>\n",
              "      <td>-0.018036</td>\n",
              "      <td>0.119254</td>\n",
              "      <td>-0.028514</td>\n",
              "      <td>0.079933</td>\n",
              "    </tr>\n",
              "    <tr>\n",
              "      <th>registration_init_time</th>\n",
              "      <td>-0.018184</td>\n",
              "      <td>-0.010005</td>\n",
              "      <td>-0.008376</td>\n",
              "      <td>0.053880</td>\n",
              "      <td>-0.010221</td>\n",
              "      <td>0.016908</td>\n",
              "      <td>-0.009422</td>\n",
              "      <td>0.001538</td>\n",
              "      <td>0.009667</td>\n",
              "      <td>0.007019</td>\n",
              "      <td>-0.014441</td>\n",
              "      <td>-0.010358</td>\n",
              "      <td>-0.294303</td>\n",
              "      <td>-0.441313</td>\n",
              "      <td>0.355321</td>\n",
              "      <td>-0.418598</td>\n",
              "      <td>1.000000</td>\n",
              "      <td>-0.175576</td>\n",
              "      <td>0.960206</td>\n",
              "      <td>0.064750</td>\n",
              "      <td>0.032578</td>\n",
              "      <td>-0.142070</td>\n",
              "      <td>0.022639</td>\n",
              "      <td>-0.072230</td>\n",
              "    </tr>\n",
              "    <tr>\n",
              "      <th>expiration_date</th>\n",
              "      <td>-0.026009</td>\n",
              "      <td>-0.033090</td>\n",
              "      <td>-0.000448</td>\n",
              "      <td>-0.069154</td>\n",
              "      <td>0.012683</td>\n",
              "      <td>0.088541</td>\n",
              "      <td>-0.043254</td>\n",
              "      <td>0.055967</td>\n",
              "      <td>-0.008052</td>\n",
              "      <td>0.007228</td>\n",
              "      <td>-0.016321</td>\n",
              "      <td>-0.004835</td>\n",
              "      <td>0.201680</td>\n",
              "      <td>0.208715</td>\n",
              "      <td>-0.139352</td>\n",
              "      <td>0.134953</td>\n",
              "      <td>-0.175576</td>\n",
              "      <td>1.000000</td>\n",
              "      <td>-0.143870</td>\n",
              "      <td>-0.075575</td>\n",
              "      <td>-0.086148</td>\n",
              "      <td>0.804786</td>\n",
              "      <td>-0.042448</td>\n",
              "      <td>0.058363</td>\n",
              "    </tr>\n",
              "    <tr>\n",
              "      <th>registration_init_time_year</th>\n",
              "      <td>-0.031233</td>\n",
              "      <td>-0.011200</td>\n",
              "      <td>0.014107</td>\n",
              "      <td>0.055354</td>\n",
              "      <td>-0.023275</td>\n",
              "      <td>0.020379</td>\n",
              "      <td>-0.009782</td>\n",
              "      <td>0.001723</td>\n",
              "      <td>0.003365</td>\n",
              "      <td>0.001685</td>\n",
              "      <td>-0.015517</td>\n",
              "      <td>-0.004497</td>\n",
              "      <td>-0.279816</td>\n",
              "      <td>-0.443971</td>\n",
              "      <td>0.364748</td>\n",
              "      <td>-0.440924</td>\n",
              "      <td>0.960206</td>\n",
              "      <td>-0.143870</td>\n",
              "      <td>1.000000</td>\n",
              "      <td>-0.052133</td>\n",
              "      <td>0.010136</td>\n",
              "      <td>-0.110417</td>\n",
              "      <td>0.012277</td>\n",
              "      <td>-0.070272</td>\n",
              "    </tr>\n",
              "    <tr>\n",
              "      <th>registration_init_time_month</th>\n",
              "      <td>0.058284</td>\n",
              "      <td>0.013284</td>\n",
              "      <td>-0.036289</td>\n",
              "      <td>0.022081</td>\n",
              "      <td>0.031841</td>\n",
              "      <td>0.032180</td>\n",
              "      <td>0.013646</td>\n",
              "      <td>-0.025049</td>\n",
              "      <td>-0.002548</td>\n",
              "      <td>-0.025446</td>\n",
              "      <td>-0.007529</td>\n",
              "      <td>0.018316</td>\n",
              "      <td>-0.042287</td>\n",
              "      <td>-0.031835</td>\n",
              "      <td>-0.005858</td>\n",
              "      <td>-0.039154</td>\n",
              "      <td>0.064750</td>\n",
              "      <td>-0.075575</td>\n",
              "      <td>-0.052133</td>\n",
              "      <td>1.000000</td>\n",
              "      <td>0.076048</td>\n",
              "      <td>-0.058377</td>\n",
              "      <td>0.011877</td>\n",
              "      <td>-0.088905</td>\n",
              "    </tr>\n",
              "    <tr>\n",
              "      <th>registration_init_time_day</th>\n",
              "      <td>-0.024425</td>\n",
              "      <td>-0.006019</td>\n",
              "      <td>0.014897</td>\n",
              "      <td>0.035843</td>\n",
              "      <td>-0.006762</td>\n",
              "      <td>0.023603</td>\n",
              "      <td>-0.020745</td>\n",
              "      <td>0.022818</td>\n",
              "      <td>-0.019826</td>\n",
              "      <td>0.020821</td>\n",
              "      <td>0.010754</td>\n",
              "      <td>0.001532</td>\n",
              "      <td>-0.058649</td>\n",
              "      <td>-0.050977</td>\n",
              "      <td>0.040964</td>\n",
              "      <td>-0.018036</td>\n",
              "      <td>0.032578</td>\n",
              "      <td>-0.086148</td>\n",
              "      <td>0.010136</td>\n",
              "      <td>0.076048</td>\n",
              "      <td>1.000000</td>\n",
              "      <td>-0.105064</td>\n",
              "      <td>0.047467</td>\n",
              "      <td>0.104936</td>\n",
              "    </tr>\n",
              "    <tr>\n",
              "      <th>expiration_date_year</th>\n",
              "      <td>-0.000436</td>\n",
              "      <td>-0.018986</td>\n",
              "      <td>0.004848</td>\n",
              "      <td>-0.061212</td>\n",
              "      <td>-0.016242</td>\n",
              "      <td>0.042971</td>\n",
              "      <td>-0.036542</td>\n",
              "      <td>0.043584</td>\n",
              "      <td>-0.011514</td>\n",
              "      <td>-0.017825</td>\n",
              "      <td>-0.026588</td>\n",
              "      <td>0.004960</td>\n",
              "      <td>0.179511</td>\n",
              "      <td>0.172714</td>\n",
              "      <td>-0.125365</td>\n",
              "      <td>0.119254</td>\n",
              "      <td>-0.142070</td>\n",
              "      <td>0.804786</td>\n",
              "      <td>-0.110417</td>\n",
              "      <td>-0.058377</td>\n",
              "      <td>-0.105064</td>\n",
              "      <td>1.000000</td>\n",
              "      <td>-0.608636</td>\n",
              "      <td>-0.033377</td>\n",
              "    </tr>\n",
              "    <tr>\n",
              "      <th>expiration_date_month</th>\n",
              "      <td>-0.032569</td>\n",
              "      <td>-0.015099</td>\n",
              "      <td>0.002970</td>\n",
              "      <td>0.006533</td>\n",
              "      <td>0.044445</td>\n",
              "      <td>0.033144</td>\n",
              "      <td>0.009163</td>\n",
              "      <td>-0.003837</td>\n",
              "      <td>0.011217</td>\n",
              "      <td>0.036988</td>\n",
              "      <td>0.024841</td>\n",
              "      <td>-0.014275</td>\n",
              "      <td>-0.048011</td>\n",
              "      <td>-0.046010</td>\n",
              "      <td>0.055602</td>\n",
              "      <td>-0.028514</td>\n",
              "      <td>0.022639</td>\n",
              "      <td>-0.042448</td>\n",
              "      <td>0.012277</td>\n",
              "      <td>0.011877</td>\n",
              "      <td>0.047467</td>\n",
              "      <td>-0.608636</td>\n",
              "      <td>1.000000</td>\n",
              "      <td>-0.009423</td>\n",
              "    </tr>\n",
              "    <tr>\n",
              "      <th>expiration_date_day</th>\n",
              "      <td>-0.012879</td>\n",
              "      <td>0.017208</td>\n",
              "      <td>0.010860</td>\n",
              "      <td>0.034359</td>\n",
              "      <td>-0.002066</td>\n",
              "      <td>0.031091</td>\n",
              "      <td>-0.011640</td>\n",
              "      <td>0.010484</td>\n",
              "      <td>-0.017286</td>\n",
              "      <td>0.011670</td>\n",
              "      <td>-0.015451</td>\n",
              "      <td>-0.006799</td>\n",
              "      <td>0.027185</td>\n",
              "      <td>0.063424</td>\n",
              "      <td>-0.038355</td>\n",
              "      <td>0.079933</td>\n",
              "      <td>-0.072230</td>\n",
              "      <td>0.058363</td>\n",
              "      <td>-0.070272</td>\n",
              "      <td>-0.088905</td>\n",
              "      <td>0.104936</td>\n",
              "      <td>-0.033377</td>\n",
              "      <td>-0.009423</td>\n",
              "      <td>1.000000</td>\n",
              "    </tr>\n",
              "  </tbody>\n",
              "</table>\n",
              "</div>"
            ],
            "text/plain": [
              "                                  msno  ...  expiration_date_day\n",
              "msno                          1.000000  ...            -0.012879\n",
              "song_id                       0.020492  ...             0.017208\n",
              "source_system_tab            -0.036219  ...             0.010860\n",
              "source_screen_name           -0.039307  ...             0.034359\n",
              "source_type                  -0.047331  ...            -0.002066\n",
              "target                        0.009492  ...             0.031091\n",
              "song_length                  -0.002544  ...            -0.011640\n",
              "genre_ids                    -0.003432  ...             0.010484\n",
              "artist_name                  -0.003488  ...            -0.017286\n",
              "composer                     -0.033212  ...             0.011670\n",
              "lyricist                     -0.012654  ...            -0.015451\n",
              "language                      0.034510  ...            -0.006799\n",
              "city                          0.059612  ...             0.027185\n",
              "bd                            0.006296  ...             0.063424\n",
              "gender                       -0.065667  ...            -0.038355\n",
              "registered_via                0.014259  ...             0.079933\n",
              "registration_init_time       -0.018184  ...            -0.072230\n",
              "expiration_date              -0.026009  ...             0.058363\n",
              "registration_init_time_year  -0.031233  ...            -0.070272\n",
              "registration_init_time_month  0.058284  ...            -0.088905\n",
              "registration_init_time_day   -0.024425  ...             0.104936\n",
              "expiration_date_year         -0.000436  ...            -0.033377\n",
              "expiration_date_month        -0.032569  ...            -0.009423\n",
              "expiration_date_day          -0.012879  ...             1.000000\n",
              "\n",
              "[24 rows x 24 columns]"
            ]
          },
          "metadata": {},
          "execution_count": 51
        }
      ]
    },
    {
      "cell_type": "code",
      "metadata": {
        "colab": {
          "base_uri": "https://localhost:8080/",
          "height": 457
        },
        "id": "4ztmWx6Nt6ZB",
        "outputId": "dafe23c0-c1b4-4155-d1ac-bc2395ed0807"
      },
      "source": [
        "# Heat map of the data\n",
        "plt.figure(figsize=[7,5])\n",
        "sns.heatmap(df.corr())\n",
        "plt.show()"
      ],
      "execution_count": null,
      "outputs": [
        {
          "output_type": "display_data",
          "data": {
            "image/png": "[encoded data removed]",
            "text/plain": [
              "<Figure size 504x360 with 2 Axes>"
            ]
          },
          "metadata": {
            "needs_background": "light"
          }
        }
      ]
    },
    {
      "cell_type": "code",
      "metadata": {
        "colab": {
          "base_uri": "https://localhost:8080/"
        },
        "id": "SY-pJtreuCfE",
        "outputId": "3dacdf26-0dbd-4256-f6f3-6eb64205e232"
      },
      "source": [
        "# Creat model\n",
        "# Parameters were selected by Randomized Grid Search with Stratified Shuffle Split Cross Validation.\n",
        "model = ensemble.RandomForestClassifier(n_estimators=250, max_depth=25)\n",
        "model.fit(df[df.columns[df.columns != 'target']], df.target)"
      ],
      "execution_count": null,
      "outputs": [
        {
          "output_type": "execute_result",
          "data": {
            "text/plain": [
              "RandomForestClassifier(bootstrap=True, ccp_alpha=0.0, class_weight=None,\n",
              "                       criterion='gini', max_depth=25, max_features='auto',\n",
              "                       max_leaf_nodes=None, max_samples=None,\n",
              "                       min_impurity_decrease=0.0, min_impurity_split=None,\n",
              "                       min_samples_leaf=1, min_samples_split=2,\n",
              "                       min_weight_fraction_leaf=0.0, n_estimators=250,\n",
              "                       n_jobs=None, oob_score=False, random_state=None,\n",
              "                       verbose=0, warm_start=False)"
            ]
          },
          "metadata": {},
          "execution_count": 53
        }
      ]
    },
    {
      "cell_type": "code",
      "metadata": {
        "id": "mmpFR61AuIYt"
      },
      "source": [
        "df_plot = pd.DataFrame({'features': df.columns[df.columns != 'target'],\n",
        "                        'importances': model.feature_importances_})\n",
        "df_plot = df_plot.sort_values('importances', ascending=False)"
      ],
      "execution_count": null,
      "outputs": []
    },
    {
      "cell_type": "code",
      "metadata": {
        "colab": {
          "base_uri": "https://localhost:8080/",
          "height": 339
        },
        "id": "ouyDbvvpuJJN",
        "outputId": "db7133b3-48a9-44f4-aaf0-d0258d42088b"
      },
      "source": [
        "# Importance of Features Plot\n",
        "plt.figure(figsize=[11,5])\n",
        "sns.barplot(x = df_plot.importances, y = df_plot.features)\n",
        "plt.title('Importances of Features Plot')\n",
        "plt.show()"
      ],
      "execution_count": null,
      "outputs": [
        {
          "output_type": "display_data",
          "data": {
            "image/png": "[encoded data removed]",
            "text/plain": [
              "<Figure size 792x360 with 1 Axes>"
            ]
          },
          "metadata": {
            "needs_background": "light"
          }
        }
      ]
    },
    {
      "cell_type": "code",
      "metadata": {
        "colab": {
          "base_uri": "https://localhost:8080/"
        },
        "id": "itDJXxx6uhEZ",
        "outputId": "129cc29a-7d61-435d-f925-63cea5ecf0fd"
      },
      "source": [
        "# Actual data of feature\n",
        "model.feature_importances_"
      ],
      "execution_count": null,
      "outputs": [
        {
          "output_type": "execute_result",
          "data": {
            "text/plain": [
              "array([0.08200274, 0.17169523, 0.04171313, 0.06556805, 0.07001438,\n",
              "       0.01336746, 0.00911425, 0.01611931, 0.01334971, 0.00882882,\n",
              "       0.00724933, 0.03686903, 0.04147878, 0.01652948, 0.01918509,\n",
              "       0.0754553 , 0.0721079 , 0.03651812, 0.04914477, 0.05846616,\n",
              "       0.00625915, 0.02909218, 0.05987161])"
            ]
          },
          "metadata": {},
          "execution_count": 56
        }
      ]
    },
    {
      "cell_type": "code",
      "metadata": {
        "id": "PA1qWUqvuksx"
      },
      "source": [
        "# Drop the column which is less important and again ad to list\n",
        "df = df.drop(df_plot.features[df_plot.importances < 0.04].tolist(), 1)"
      ],
      "execution_count": null,
      "outputs": []
    },
    {
      "cell_type": "code",
      "metadata": {
        "colab": {
          "base_uri": "https://localhost:8080/"
        },
        "id": "KGreZV2RupW9",
        "outputId": "cba5dda4-6fc3-45bb-a62f-b4c8e262a5ad"
      },
      "source": [
        "list(df.columns)"
      ],
      "execution_count": null,
      "outputs": [
        {
          "output_type": "execute_result",
          "data": {
            "text/plain": [
              "['msno',\n",
              " 'song_id',\n",
              " 'source_system_tab',\n",
              " 'source_screen_name',\n",
              " 'source_type',\n",
              " 'target',\n",
              " 'bd',\n",
              " 'registration_init_time',\n",
              " 'expiration_date',\n",
              " 'registration_init_time_month',\n",
              " 'registration_init_time_day',\n",
              " 'expiration_date_day']"
            ]
          },
          "metadata": {},
          "execution_count": 58
        }
      ]
    },
    {
      "cell_type": "code",
      "metadata": {
        "id": "vAMvQAnZusOF"
      },
      "source": [
        "target = df.pop('target')"
      ],
      "execution_count": null,
      "outputs": []
    },
    {
      "cell_type": "code",
      "metadata": {
        "colab": {
          "base_uri": "https://localhost:8080/"
        },
        "id": "Sx7VCDGQHT8y",
        "outputId": "13d3d71e-bacc-477b-a9c2-95ec62e47fab"
      },
      "source": [
        "df.info()"
      ],
      "execution_count": null,
      "outputs": [
        {
          "output_type": "stream",
          "name": "stdout",
          "text": [
            "<class 'pandas.core.frame.DataFrame'>\n",
            "Int64Index: 3117 entries, 0 to 3116\n",
            "Data columns (total 11 columns):\n",
            " #   Column                        Non-Null Count  Dtype\n",
            "---  ------                        --------------  -----\n",
            " 0   msno                          3117 non-null   int16\n",
            " 1   song_id                       3117 non-null   int16\n",
            " 2   source_system_tab             3117 non-null   int8 \n",
            " 3   source_screen_name            3117 non-null   int8 \n",
            " 4   source_type                   3117 non-null   int8 \n",
            " 5   bd                            3117 non-null   int64\n",
            " 6   registration_init_time        3117 non-null   int16\n",
            " 7   expiration_date               3117 non-null   int16\n",
            " 8   registration_init_time_month  3117 non-null   int64\n",
            " 9   registration_init_time_day    3117 non-null   int64\n",
            " 10  expiration_date_day           3117 non-null   int64\n",
            "dtypes: int16(4), int64(4), int8(3)\n",
            "memory usage: 155.2 KB\n"
          ]
        }
      ]
    },
    {
      "cell_type": "code",
      "metadata": {
        "colab": {
          "base_uri": "https://localhost:8080/"
        },
        "id": "r_X1qgexu7cU",
        "outputId": "d237ca2e-1c57-4e68-88c5-02afdd55c67c"
      },
      "source": [
        "# Predict and result of random forest\n",
        "predict_labels = model.predict(test_data)\n",
        "print(metrics.classification_report(test_labels, predict_labels))"
      ],
      "execution_count": null,
      "outputs": [
        {
          "output_type": "stream",
          "name": "stdout",
          "text": [
            "              precision    recall  f1-score   support\n",
            "\n",
            "         0.0       0.54      0.37      0.43       230\n",
            "         1.0       0.81      0.90      0.85       706\n",
            "\n",
            "    accuracy                           0.77       936\n",
            "   macro avg       0.67      0.63      0.64       936\n",
            "weighted avg       0.74      0.77      0.75       936\n",
            "\n"
          ]
        }
      ]
    }
  ]
}